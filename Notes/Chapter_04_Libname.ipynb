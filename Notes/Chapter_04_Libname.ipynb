{
 "cells": [
  {
   "cell_type": "markdown",
   "id": "0f2d8a20",
   "metadata": {},
   "source": [
    "## Creating Permanent SAS Data Sets"
   ]
  },
  {
   "cell_type": "code",
   "execution_count": null,
   "id": "5d43f1ef",
   "metadata": {},
   "outputs": [],
   "source": [
    "import saspy\n",
    "sas = saspy.SASsession()"
   ]
  },
  {
   "cell_type": "markdown",
   "id": "c28f8fe9",
   "metadata": {},
   "source": [
    "### SAS Libraries — The LIBNAME Statement\n",
    "- **`data test;`** = \n",
    "- **`data libref.data_set_name`** = **`data Work.Test;`**"
   ]
  },
  {
   "cell_type": "code",
   "execution_count": null,
   "id": "1bc52d93",
   "metadata": {},
   "outputs": [],
   "source": [
    "%%SAS\n",
    "libname Mozart 'C:/Users/vignesh/SAS/learningsas/misc/test1';\n",
    "\n",
    "data Mozart.Test_Scores;\n",
    "   length ID $ 3 Name $ 15;\n",
    "   input ID $ Score1-Score3 Name $;\n",
    "   datalines;\n",
    "1 90 95 98 Jan\n",
    "2 78 77 99 Preston\n",
    "3 88 91 92 Russell\n",
    ";\n",
    "run;"
   ]
  },
  {
   "cell_type": "markdown",
   "id": "429e45b2",
   "metadata": {},
   "source": [
    "### Using PROC CONTENTS to Examine the Descriptor Portion of a SAS Data Set"
   ]
  },
  {
   "cell_type": "code",
   "execution_count": null,
   "id": "3832db39",
   "metadata": {},
   "outputs": [],
   "source": [
    "%%SAS\n",
    "proc contents data=Mozart.Test_Scores;\n",
    "run;"
   ]
  },
  {
   "cell_type": "markdown",
   "id": "82e1be75",
   "metadata": {},
   "source": [
    "### Demonstrating the VARNUM option of PROC CONTENTS"
   ]
  },
  {
   "cell_type": "code",
   "execution_count": null,
   "id": "0e4bda87",
   "metadata": {},
   "outputs": [],
   "source": [
    "%%SAS\n",
    "proc contents data=Mozart.Test_Scores varnum;\n",
    "run;"
   ]
  },
  {
   "cell_type": "markdown",
   "id": "ddcb7819",
   "metadata": {},
   "source": [
    "### Using PROC CONTENTS to List the Names of all the SAS Data Sets in a SAS Library"
   ]
  },
  {
   "cell_type": "code",
   "execution_count": null,
   "id": "3c76b129",
   "metadata": {},
   "outputs": [],
   "source": [
    "%%SAS\n",
    "proc contents data=Mozart._all_ nods;\n",
    "run;"
   ]
  },
  {
   "cell_type": "markdown",
   "id": "5abf6b90",
   "metadata": {},
   "source": [
    "The keyword **\\_ALL\\_** is used in place of a data set name."
   ]
  },
  {
   "cell_type": "markdown",
   "id": "c5211152",
   "metadata": {},
   "source": [
    "## Using a SAS Data Set as Input to a DATA Step"
   ]
  },
  {
   "cell_type": "code",
   "execution_count": null,
   "id": "295167f9",
   "metadata": {},
   "outputs": [],
   "source": [
    "%%SAS\n",
    "libname Learn 'C:/Users/vignesh/SAS/learningsas/misc/test1';\n",
    "\n",
    "data New;\n",
    "   set Learn.Test_Scores;\n",
    "   AveScore=mean(of Score1-Score3);\n",
    "run;\n",
    "\n",
    "proc print data=New;\n",
    "   var ID Score1-Score3 AveScore;\n",
    "run;"
   ]
  },
  {
   "cell_type": "markdown",
   "id": "80b4e371",
   "metadata": {},
   "source": [
    "### Demonstrating a DATA _NULL_ Step"
   ]
  },
  {
   "cell_type": "code",
   "execution_count": null,
   "id": "a6f680ca",
   "metadata": {},
   "outputs": [],
   "source": [
    "%%SAS\n",
    "data _null_;\n",
    "   set Learn.Test_Scores;\n",
    "   if Score1 ge 95 or Score2 ge 95 or Score3 ge 95 then\n",
    "      put ID= Score1= Score2= Score3=;\n",
    "run;"
   ]
  },
  {
   "cell_type": "code",
   "execution_count": null,
   "id": "90354836",
   "metadata": {},
   "outputs": [],
   "source": [
    "%%SAS\n",
    "data _null_;\n",
    "   set Learn.Test_Scores;\n",
    "   file 'C:/Users/vignesh/SAS/learningsas/misc/test1/scoring.txt';\n",
    "   if Score1 ge 95 or Score2 ge 95 or Score3 ge 95 then\n",
    "      put ID= Score1= Score2= Score3=;\n",
    "run;"
   ]
  }
 ],
 "metadata": {
  "kernelspec": {
   "display_name": "Python 3 (ipykernel)",
   "language": "python",
   "name": "python3"
  },
  "language_info": {
   "codemirror_mode": {
    "name": "ipython",
    "version": 3
   },
   "file_extension": ".py",
   "mimetype": "text/x-python",
   "name": "python",
   "nbconvert_exporter": "python",
   "pygments_lexer": "ipython3",
   "version": "3.8.13"
  }
 },
 "nbformat": 4,
 "nbformat_minor": 5
}

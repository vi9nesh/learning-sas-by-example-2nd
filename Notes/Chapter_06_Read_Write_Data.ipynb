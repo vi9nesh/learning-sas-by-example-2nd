{
 "cells": [
  {
   "cell_type": "markdown",
   "id": "2a2f139b",
   "metadata": {},
   "source": [
    "## Reading and Writing Data from an Excel Spreadsheet"
   ]
  },
  {
   "cell_type": "code",
   "execution_count": null,
   "id": "e94648e6",
   "metadata": {},
   "outputs": [],
   "source": [
    "import saspy\n",
    "sas = saspy.SASsession()"
   ]
  },
  {
   "cell_type": "markdown",
   "id": "e59bcdd7",
   "metadata": {},
   "source": [
    "### Using PROC PRINT to List the First Four Observations in a Data Set"
   ]
  },
  {
   "cell_type": "code",
   "execution_count": null,
   "id": "fe941707",
   "metadata": {},
   "outputs": [],
   "source": [
    "%%SAS\n",
    "proc print data=sashelp.cars(obs=4);\n",
    "run;"
   ]
  },
  {
   "cell_type": "markdown",
   "id": "0c2e5fbc",
   "metadata": {},
   "source": [
    "### Using the FIRSTOBS= and OBS= Options Together"
   ]
  },
  {
   "cell_type": "code",
   "execution_count": null,
   "id": "4c8fef06",
   "metadata": {},
   "outputs": [],
   "source": [
    "%%SAS\n",
    "proc print data=sashelp.cars(firstobs=10 obs=20);\n",
    "run;"
   ]
  },
  {
   "cell_type": "markdown",
   "id": "a980dd04",
   "metadata": {},
   "source": [
    "### Reading a Spreadsheet Using an XLSX Engine"
   ]
  },
  {
   "cell_type": "code",
   "execution_count": null,
   "id": "d29250a2",
   "metadata": {},
   "outputs": [],
   "source": [
    "%%SAS\n",
    "libname Read 'C:/Users/vignesh/SAS/learningsas/data/Wages.xls';\n",
    "\n",
    "proc means data=Read.'Permanent$'n mean;\n",
    "   var Wage Hours_Worked;\n",
    "run;"
   ]
  },
  {
   "cell_type": "markdown",
   "id": "0f04d359",
   "metadata": {},
   "source": [
    "You place the worksheet name `(Permanent$)` in single quotes and follow this with an `n`. This notation allows you to use invalid characters as part of SAS names."
   ]
  },
  {
   "cell_type": "code",
   "execution_count": null,
   "id": "f0089564",
   "metadata": {},
   "outputs": [],
   "source": [
    "%%SAS\n",
    "proc import out=work.wages\n",
    "   datafile=\"C:/Users/vignesh/SAS/learningsas/data/Wages.xls\"\n",
    "   dbms=xls replace; \n",
    "   getnames=yes; \n",
    "   guessingrows=5;\n",
    "run; "
   ]
  },
  {
   "cell_type": "markdown",
   "id": "8b2e3d19",
   "metadata": {},
   "source": [
    "> options validvarname=any;"
   ]
  },
  {
   "cell_type": "markdown",
   "id": "00a5b6fa",
   "metadata": {},
   "source": [
    "### Using ODS to Convert a SAS Data Set into a CSV File (to Be Read by Excel) "
   ]
  },
  {
   "cell_type": "code",
   "execution_count": null,
   "id": "394473a7",
   "metadata": {},
   "outputs": [],
   "source": [
    "%%SAS\n",
    "ods csv file='C:/Users/vignesh/SAS/learningsas/misc/test1/ODS_Example.csv';\n",
    "proc print data=sashelp.cars noobs;\n",
    "run;\n",
    "ods csv close;"
   ]
  },
  {
   "cell_type": "code",
   "execution_count": null,
   "id": "f21582e8",
   "metadata": {},
   "outputs": [],
   "source": [
    "%%SAS\n",
    "proc export data=sashelp.class\n",
    "   outfile=\"C:/Users/vignesh/SAS/learningsas/data/ODS_Example.csv\"\n",
    "   dbms=csv\n",
    "   replace;\n",
    "   /* sheet=''; */\n",
    "run;"
   ]
  },
  {
   "cell_type": "code",
   "execution_count": null,
   "id": "3555c26d",
   "metadata": {},
   "outputs": [],
   "source": []
  }
 ],
 "metadata": {
  "kernelspec": {
   "display_name": "Python 3 (ipykernel)",
   "language": "python",
   "name": "python3"
  },
  "language_info": {
   "codemirror_mode": {
    "name": "ipython",
    "version": 3
   },
   "file_extension": ".py",
   "mimetype": "text/x-python",
   "name": "python",
   "nbconvert_exporter": "python",
   "pygments_lexer": "ipython3",
   "version": "3.8.13"
  }
 },
 "nbformat": 4,
 "nbformat_minor": 5
}

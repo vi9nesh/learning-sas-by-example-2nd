{
 "cells": [
  {
   "cell_type": "markdown",
   "id": "61389887",
   "metadata": {},
   "source": [
    "## Adding Labels to Your Variables"
   ]
  },
  {
   "cell_type": "code",
   "execution_count": null,
   "id": "1a59d116",
   "metadata": {},
   "outputs": [],
   "source": [
    "import saspy\n",
    "sas = saspy.SASsession()"
   ]
  },
  {
   "cell_type": "code",
   "execution_count": null,
   "id": "6458a86d",
   "metadata": {},
   "outputs": [],
   "source": [
    "%%SAS\n",
    "libname Learn 'C:/Users/vignesh/SAS/learningsas/misc/test1';"
   ]
  },
  {
   "cell_type": "markdown",
   "id": "9ca3d6c2",
   "metadata": {},
   "source": [
    "* Labels character limit - 256 characters long"
   ]
  },
  {
   "cell_type": "code",
   "execution_count": null,
   "id": "846f81b7",
   "metadata": {},
   "outputs": [],
   "source": [
    "%%SAS\n",
    "data Learn.Test_Scores;\n",
    "   length ID $ 3 Name $ 15;\n",
    "   input ID $ Score1-Score3 Name $;\n",
    "   label ID='Student ID' \n",
    "     Score1='Math Score' \n",
    "     Score2='Science Score' \n",
    "     Score3='English Score';\n",
    "   datalines;\n",
    "1 90 95 98 Jan\n",
    "2 78 77 99 Preston\n",
    "3 88 91 92 Russell\n",
    ";\n",
    "run;\n",
    "\n",
    "\n",
    "proc means data=Learn.Test_Scores;\n",
    "run;"
   ]
  },
  {
   "cell_type": "markdown",
   "id": "777d0e1e",
   "metadata": {},
   "source": [
    "### Using PROC FORMAT to Create User-Defined Formats"
   ]
  },
  {
   "cell_type": "code",
   "execution_count": null,
   "id": "9acea526",
   "metadata": {},
   "outputs": [],
   "source": [
    "%%SAS\n",
    "proc format;\n",
    "   value $Gender 'M' = 'Male' \n",
    "                 'F' = 'Female' \n",
    "                 ' ' = 'Not entered' \n",
    "               other = 'Miscoded';\n",
    "               \n",
    "   value Age low-29 = 'Less than 30' \n",
    "              30-50 = '30 to 50' \n",
    "            51-high = '51+';\n",
    "            \n",
    "   value $Likert '1' = 'Strongly Disagree' \n",
    "                 '2' = 'Disagree' \n",
    "                 '3' = 'No Opinion' \n",
    "                 '4' = 'Agree' \n",
    "                 '5' = 'Strongly Agree';\n",
    "run;\n"
   ]
  },
  {
   "cell_type": "markdown",
   "id": "1231a1e6",
   "metadata": {},
   "source": [
    "- Expection - format names cannot end in a digit and the maximum length of a format name is 31 characters\n",
    "\n",
    "- The keyword `other` in the VALUE statement causes the text `Miscoded` to be printed for any characters besides `M`, `F`, or a missing value.\n",
    "\n",
    "- In the AGE format, the keywords LOW and HIGH refer to the lowest nonmissing value and the highest value, respectively.\n",
    "\n",
    "- The last format, $LIKERT, is used to substitute the appropriate text for the digits _1 (strongly disagree)_ to _5 (strongly agree)_."
   ]
  },
  {
   "cell_type": "code",
   "execution_count": null,
   "id": "0508d0fc",
   "metadata": {},
   "outputs": [],
   "source": [
    "%%SAS\n",
    "data learn.survey;\n",
    "   infile 'C:/Users/vignesh/SAS/learningsas/data/survey.txt' pad;\n",
    "   input ID : $3.\n",
    "         Gender : $1.\n",
    "         Age\n",
    "         Salary\n",
    "         (Ques1-Ques5)(: $1.);\n",
    "run;\n",
    "\n",
    "proc print data=Learn.Survey;\n",
    "   id ID;\n",
    "   var Gender Age Salary Ques1-Ques5;\n",
    "   format Gender      $Gender.\n",
    "          Age         Age.\n",
    "          Ques1-Ques5 $Likert.\n",
    "          Salary      Dollar11.2;\n",
    "run;"
   ]
  },
  {
   "cell_type": "markdown",
   "id": "70d917e1",
   "metadata": {},
   "source": [
    "### Regrouping Values Using a Format"
   ]
  },
  {
   "cell_type": "code",
   "execution_count": null,
   "id": "cd82265f",
   "metadata": {},
   "outputs": [],
   "source": [
    "%%SAS\n",
    "proc format;\n",
    "   value $Three 1, 2='Disagreement' \n",
    "                   3='No opinion' \n",
    "                4, 5='Agreement';\n",
    "run;"
   ]
  },
  {
   "cell_type": "markdown",
   "id": "0a6af43c",
   "metadata": {},
   "source": [
    "### Applying the New Format to Several Variables with PROC FREQ "
   ]
  },
  {
   "cell_type": "code",
   "execution_count": null,
   "id": "349d6b57",
   "metadata": {},
   "outputs": [],
   "source": [
    "%%SAS\n",
    "proc freq data=Learn.Survey;\n",
    "   tables Ques1-Ques5;\n",
    "   format Ques1-Ques5 $Three.;\n",
    "run;"
   ]
  },
  {
   "cell_type": "markdown",
   "id": "29b0e735",
   "metadata": {},
   "source": [
    "### More on Format Ranges\n",
    "\n",
    "```\n",
    "value $Gradefmt 'A' – 'C' = 'Passing'\n",
    "                      'D' = 'Borderline'\n",
    "                      'F' = 'Failing'\n",
    "                  'I','W' = 'Incomplete or withdrew'\n",
    "                      ' ' = 'Not recorded'\n",
    "                    other = 'Miscoded';\n",
    "```\n",
    "```\n",
    "value Age low-29 = 'Less than 30'\n",
    "           30-50 = '30 to 50'\n",
    "         51-high = '51+';\n",
    "```\n",
    "```\n",
    "value Age low-<30 = 'Less than 30'\n",
    "           30-<51 = '30 to less than 51'\n",
    "          51-high = '51+';\n",
    "```\n",
    "```\n",
    "value Age low-30 = 'Less than or equal to 30'\n",
    "          30<-51 = 'Greater than 30 to 51'\n",
    "        51<-high = 'Greater than 51';\n",
    "```"
   ]
  },
  {
   "cell_type": "markdown",
   "id": "d3703de1",
   "metadata": {},
   "source": [
    "### Storing Your Formats in a Format Library"
   ]
  },
  {
   "cell_type": "code",
   "execution_count": null,
   "id": "d4ad3366",
   "metadata": {},
   "outputs": [],
   "source": [
    "%%SAS\n",
    "libname Myfmts 'C:/Users/vignesh/SAS/learningsas/misc/test1';\n",
    "\n",
    "proc format library=Myfmts;\n",
    "   value $Gender 'M' = 'Male'\n",
    "                 'F' = 'Female'\n",
    "                 ' ' = 'Not entered'\n",
    "               other = 'Miscoded';\n",
    "               \n",
    "   value Age low-29  = 'Less than 30'\n",
    "             30-50   = '30 to 50'\n",
    "             51-high = '51+';\n",
    "             \n",
    "   value $Likert '1' = 'Strongly disagree'\n",
    "                 '2' = 'Disagree'\n",
    "                 '3' = 'No opinion'\n",
    "                 '4' = 'Agree'\n",
    "                 '5' = 'Strongly agree';\n",
    "run;"
   ]
  },
  {
   "cell_type": "markdown",
   "id": "05bc674f",
   "metadata": {},
   "source": [
    "```\n",
    "options fmtsearch=(Myfmts);\n",
    "options fmtsearch=(myfmts Work Library);\n",
    "```"
   ]
  },
  {
   "cell_type": "markdown",
   "id": "ba12c97e",
   "metadata": {},
   "source": [
    "### Adding LABEL and FORMAT Statements in the DATA Step"
   ]
  },
  {
   "cell_type": "code",
   "execution_count": null,
   "id": "b88b8ff6",
   "metadata": {},
   "outputs": [],
   "source": [
    "%%SAS\n",
    "libname Learn 'C:/Users/vignesh/SAS/learningsas/misc/test1';\n",
    "libname Myfmts 'C:/Users/vignesh/SAS/learningsas/misc/test1';\n",
    "\n",
    "options fmtsearch=(Myfmts);\n",
    "\n",
    "data Learn.Survey;\n",
    "   infile 'C:/Users/vignesh/SAS/learningsas/data/Survey.txt' pad;\n",
    "   input ID : $3.\n",
    "         Gender : $1.\n",
    "         Age\n",
    "         Salary\n",
    "         (Ques1-Ques5)(: $1.);\n",
    "   format Gender      $Gender.\n",
    "          Age         Age.\n",
    "          Ques1-Ques5 $Likert.\n",
    "          Salary      Dollar10.0;\n",
    "   label ID     = 'Subject ID'\n",
    "         Gender = 'Gender'\n",
    "         Age    = 'Age as of 1/1/2006'\n",
    "         Salary = 'Yearly Salary'\n",
    "         Ques1  = 'The governor is doing a good job?'\n",
    "         Ques2  = 'The property tax should be lowered'\n",
    "         Ques3  = 'Guns should be banned'\n",
    "         Ques4  = 'Expand the Green Acre program'\n",
    "         Ques5  = 'The school needs to be expanded';\n",
    "run;"
   ]
  },
  {
   "cell_type": "markdown",
   "id": "35d58acf",
   "metadata": {},
   "source": [
    "### Running PROC CONTENTS on a Data Set with Labels and Formats"
   ]
  },
  {
   "cell_type": "code",
   "execution_count": null,
   "id": "255aa6f3",
   "metadata": {},
   "outputs": [],
   "source": [
    "%%SAS\n",
    "proc contents data=Learn.Survey varnum;\n",
    "run;"
   ]
  },
  {
   "cell_type": "markdown",
   "id": "2ed235f5",
   "metadata": {},
   "source": [
    "### Displaying Format Definitions in a User-created Library"
   ]
  },
  {
   "cell_type": "code",
   "execution_count": null,
   "id": "11e2cd0b",
   "metadata": {},
   "outputs": [],
   "source": [
    "%%SAS\n",
    "title \"Format Definitions in the Myfmts Library\";\n",
    "proc format library=Myfmts fmtlib;\n",
    "run;"
   ]
  },
  {
   "cell_type": "markdown",
   "id": "a5c4c31b",
   "metadata": {},
   "source": [
    "### Demonstrating a SELECT Statement with PROC FORMAT"
   ]
  },
  {
   "cell_type": "code",
   "execution_count": null,
   "id": "8867cf04",
   "metadata": {},
   "outputs": [],
   "source": [
    "%%SAS\n",
    "proc format library=Myfmts;\n",
    "   select Age $Likert;\n",
    "run;"
   ]
  },
  {
   "cell_type": "code",
   "execution_count": null,
   "id": "2ed5498b",
   "metadata": {},
   "outputs": [],
   "source": []
  }
 ],
 "metadata": {
  "kernelspec": {
   "display_name": "Python 3 (ipykernel)",
   "language": "python",
   "name": "python3"
  },
  "language_info": {
   "codemirror_mode": {
    "name": "ipython",
    "version": 3
   },
   "file_extension": ".py",
   "mimetype": "text/x-python",
   "name": "python",
   "nbconvert_exporter": "python",
   "pygments_lexer": "ipython3",
   "version": "3.8.13"
  }
 },
 "nbformat": 4,
 "nbformat_minor": 5
}
